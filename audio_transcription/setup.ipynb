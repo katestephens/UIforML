{
 "cells": [
  {
   "cell_type": "markdown",
   "id": "48f082e7",
   "metadata": {},
   "source": [
    "## Make sure we have our dependencies"
   ]
  },
  {
   "attachments": {},
   "cell_type": "markdown",
   "id": "4c1823fc",
   "metadata": {},
   "source": [
    "### Now, because we have a Dockerfile for our development environment... this should just work...\n",
    "To run your determined Jupyter notebook with this image...\n",
    "\n",
    "```yaml\n",
    "## replace this \n",
    "environment:\n",
    "  add_capabilities: null\n",
    "  drop_capabilities: null\n",
    "  environment_variables: {}\n",
    "  force_pull_image: false\n",
    "  image:\n",
    "    cpu: determinedai/environments:py-3.8-pytorch-1.10-tf-2.8-cpu-9119094\n",
    "    cuda: determinedai/environments:cuda-11.3-pytorch-1.10-tf-2.8-gpu-9119094 ### this guy right here\n",
    "\n",
    "##replace it with this \n",
    "\n",
    "    cuda: katestephens/kate-nemo:<version>\n",
    "\n",
    "## you're welcome :)\n",
    "```\n"
   ]
  },
  {
   "attachments": {},
   "cell_type": "markdown",
   "id": "3020d225",
   "metadata": {},
   "source": [
    "### If you don't want to use Jupyter in Determined and you just wanna use VSCode in a Determined shell... do the below\n",
    "create a `determined_config.yaml` in your homedir on your local machine with the following\n",
    "```yaml\n",
    "bind_mounts:\n",
    "  - container_path: /run/determined/workdir/shared_fs\n",
    "    host_path: /mnt/mapr_nfs/<path_to_det_share>/determined/det_share\n",
    "    propagation: rprivate\n",
    "    read_only: false\n",
    "  - container_path: /determined_shared_fs\n",
    "    host_path: /mnt/mapr_nfs/<path_to_det_checkpoints>/determined/det_checkpoints\n",
    "    propagation: rprivate\n",
    "    read_only: false\n",
    "  - container_path: /mnt/mapr_nfs\n",
    "    host_path: /mnt/mapr_nfs\n",
    "    propagation: rprivate\n",
    "    read_only: false\n",
    "debug: false\n",
    "description: my-awesome-nb\n",
    "entrypoint: null\n",
    "environment:\n",
    "  add_capabilities: null\n",
    "  drop_capabilities: null\n",
    "  environment_variables: {}\n",
    "  force_pull_image: false\n",
    "  image:\n",
    "    cpu: determinedai/environments:py-3.8-pytorch-1.10-tf-2.8-cpu-9119094\n",
    "    cuda: katestephens/kate-nemo:<version>\n",
    "  pod_spec: null\n",
    "  ports: null\n",
    "  slurm: null\n",
    "idle_timeout: null\n",
    "notebook_idle_type: kernels_or_terminals\n",
    "resources:\n",
    "  agent_label: ''\n",
    "  devices: null\n",
    "  resource_pool: kubernetes\n",
    "  slots: 1\n",
    "  weight: 1\n",
    "work_dir: null\n",
    "```\n",
    "Now... you'll want to make sure you have the mapping to det master in your local dev environment\n",
    "```bash\n",
    "echo $DET_MASTER\n",
    "```\n",
    "\n",
    "if nothing shows up...\n",
    "`export DET_MASTER=<ipaddrOfDet:port>`\n",
    "better yet... add it to your `~/.bashrc` and `source ~/.bashrc`\n",
    "\n",
    "To test that you're really talking to `DET_MASTER` run `det shell list` from your terminal\n",
    "\n",
    "To start a shell with the config/docker image loaded from YOUR terminal run\n",
    "```bash\n",
    "det shell start --show-ssh-command --config-file ~/determined_config.yaml\n",
    "```\n",
    "\n",
    "Then add the ssh host to your vscode instance (https://docs.determined.ai/latest/interfaces/ide-integration.html#visual-studio-code)"
   ]
  },
  {
   "cell_type": "markdown",
   "id": "330862b7",
   "metadata": {},
   "source": [
    "### Last Step... we wanna check our dependencies... especially apex..."
   ]
  },
  {
   "cell_type": "code",
   "execution_count": null,
   "id": "9dc814d6-1d71-4049-aba1-7db25cfe0b98",
   "metadata": {},
   "outputs": [],
   "source": [
    "#make sure we have all our dependencies\n",
    "import os\n",
    "from os.path import exists, join, basename, splitext\n",
    "\n",
    "if not exists('apex'):\n",
    " !pip list | grep apex\n",
    " !echo \"did I return apex?! If not... oopsie no Apex found uncomment the lines in this block\"\n",
    "  #!git clone https://github.com/NVIDIA/apex\n",
    "  #!cd ./apex && pip install -v --disable-pip-version-check --no-cache-dir --global-option=\"--cpp_ext\" --global-option=\"--cuda_ext\" ./"
   ]
  }
 ],
 "metadata": {
  "kernelspec": {
   "display_name": "Python 3.9.13 ('movierec')",
   "language": "python",
   "name": "python3"
  },
  "language_info": {
   "codemirror_mode": {
    "name": "ipython",
    "version": 3
   },
   "file_extension": ".py",
   "mimetype": "text/x-python",
   "name": "python",
   "nbconvert_exporter": "python",
   "pygments_lexer": "ipython3",
   "version": "3.9.13 (main, Oct 13 2022, 16:12:30) \n[Clang 12.0.0 ]"
  },
  "vscode": {
   "interpreter": {
    "hash": "26fe660a9a652c01f05957848d1cebe6710a5fa64e8478bde34c043ce348248a"
   }
  }
 },
 "nbformat": 4,
 "nbformat_minor": 5
}
